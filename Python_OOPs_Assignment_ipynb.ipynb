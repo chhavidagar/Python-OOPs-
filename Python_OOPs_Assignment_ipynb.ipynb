{
  "nbformat": 4,
  "nbformat_minor": 0,
  "metadata": {
    "colab": {
      "provenance": []
    },
    "kernelspec": {
      "name": "python3",
      "display_name": "Python 3"
    },
    "language_info": {
      "name": "python"
    }
  },
  "cells": [
    {
      "cell_type": "markdown",
      "source": [
        "Python OOPs Questions//"
      ],
      "metadata": {
        "id": "3DY4tlT5BrMw"
      }
    },
    {
      "cell_type": "markdown",
      "source": [
        "1. HF What is Object-Oriented Programming (OOP)?\n",
        "-Object-Oriented Programming (OOP) is a programming paradigm that organizes code using objects, which combine data (attributes) and behavior (methods). It emphasizes four key principles: encapsulation, inheritance, polymorphism, and abstraction, enabling modular, reusable, and maintainable software development."
      ],
      "metadata": {
        "id": "GrZ-Ol5aBxl_"
      }
    },
    {
      "cell_type": "markdown",
      "source": [
        "2. /F What is a class in OOP?\n",
        "- n Object-Oriented Programming (OOP), a class is a blueprint for creating objects. It defines the attributes (data) and methods (behavior) that the objects will have, serving as a template for organizing and structuring code."
      ],
      "metadata": {
        "id": "B60unU_PCHtE"
      }
    },
    {
      "cell_type": "markdown",
      "source": [
        "3. What is an object in OOP ?\n",
        "- In Object-Oriented Programming (OOP), an object is an instance of a class. It represents a specific entity with attributes (data) and methods (behavior) defined by its class."
      ],
      "metadata": {
        "id": "Bf1qtsPpCpC9"
      }
    },
    {
      "cell_type": "markdown",
      "source": [
        "4. What is the difference between abstraction and encapsulation\n",
        "- The key difference between abstraction and encapsulation in OOP is:\n",
        "\n",
        "Abstraction focuses on hiding complex implementation details and showing only the essential features to the user.\n",
        "Encapsulation involves bundling data and methods into a single unit (class) and restricting access to certain components to ensure security and modularity."
      ],
      "metadata": {
        "id": "qNyh-QDwDAgr"
      }
    },
    {
      "cell_type": "markdown",
      "source": [
        "5. What are dunder methods in Python1\n",
        "- Dunder methods (short for \"double underscore methods\") in Python are special methods with names surrounded by double underscores (e.g., __init__, __str__). They allow customization of object behavior, such as initialization, representation, and operator overloading."
      ],
      "metadata": {
        "id": "EbyeEawtDUje"
      }
    },
    {
      "cell_type": "markdown",
      "source": [
        "6.   Explain the concept of inheritance in OOPF\n",
        "- Inheritance in OOP is a mechanism where one class (child) can acquire the properties and methods of another class (parent), promoting code reuse and enabling a hierarchical relationship between classes."
      ],
      "metadata": {
        "id": "HqpLN2ZFDhFm"
      }
    },
    {
      "cell_type": "markdown",
      "source": [
        "7. What is polymorphism in OOP\n",
        "- Polymorphism in OOP allows objects of different classes to be treated as instances of the same superclass, enabling methods to behave differently based on the object calling them, enhancing flexibility and code reusability."
      ],
      "metadata": {
        "id": "QIpEOzPMDuVS"
      }
    },
    {
      "cell_type": "markdown",
      "source": [
        "8.  How is encapsulation achieved in Python\n",
        "-Encapsulation in Python is achieved by bundling data (attributes) and methods within a class and restricting access using access modifiers like:\n",
        "\n",
        "Public: Accessible anywhere (e.g., attribute).\n",
        "Protected: Indicated with a single underscore, for internal use (e.g., _attribute).\n",
        "Private: Indicated with double underscores, restricting direct access (e.g., __attribute)."
      ],
      "metadata": {
        "id": "EaicHdqoEAAp"
      }
    },
    {
      "cell_type": "markdown",
      "source": [
        "9. What is a constructor in Python\n",
        "- A constructor in Python is a special method named __init__() used to initialize an object's attributes when the object is created. It is automatically called when a new instance of a class is instantiated."
      ],
      "metadata": {
        "id": "2_zlC-GhEPzI"
      }
    },
    {
      "cell_type": "markdown",
      "source": [
        "10. What are class and static methods in Python\n",
        "- In Python:\n",
        "\n",
        "Class method: Defined with the @classmethod decorator, it takes cls as the first parameter and operates on the class itself, rather than on an instance. It can modify class-level attributes.\n",
        "\n",
        "Static method: Defined with the @staticmethod decorator, it doesn't take self or cls as parameters and doesn't access or modify class or instance attributes. It behaves like a regular function within the class."
      ],
      "metadata": {
        "id": "EmhIRpSgEeih"
      }
    },
    {
      "cell_type": "markdown",
      "source": [
        "11. What is method overloading in Python\n",
        "Method overloading in Python refers to defining multiple methods with the same name but different parameter signatures. However, Python does not support traditional method overloading as in other languages. Instead, it allows default or variable-length arguments to achieve similar behavior."
      ],
      "metadata": {
        "id": "XMz0_AP9Eti7"
      }
    },
    {
      "cell_type": "markdown",
      "source": [
        "12. What is method overriding in OOP\n",
        "- Method overriding in OOP occurs when a subclass provides its own implementation of a method that is already defined in its parent class, allowing the subclass to modify or extend the behavior of that method."
      ],
      "metadata": {
        "id": "53My_JwzE8eN"
      }
    },
    {
      "cell_type": "markdown",
      "source": [
        "13. What is a property decorator in Python\n",
        "- The property decorator in Python is used to define a method as a property, allowing it to be accessed like an attribute. It allows for controlled access to instance variables, enabling getter, setter, and deleter functionality without directly accessing the attributes."
      ],
      "metadata": {
        "id": "t9NJ74dDFNMA"
      }
    },
    {
      "cell_type": "markdown",
      "source": [
        "14. Why is polymorphism important in OOP\n",
        "- Polymorphism is important in OOP because it allows objects of different classes to be treated as instances of the same class, enabling flexibility and code reuse. It allows methods to behave differently based on the object, simplifying code maintenance and improving scalability."
      ],
      "metadata": {
        "id": "AbyVXGT8Fe3w"
      }
    },
    {
      "cell_type": "markdown",
      "source": [
        "15. What is an abstract class in Python\n",
        "- An abstract class in Python is a class that cannot be instantiated directly and is meant to be subclassed. It can contain abstract methods, which are methods without implementation, forcing subclasses to provide their own implementation for those methods. Abstract classes are defined using the abc module."
      ],
      "metadata": {
        "id": "UTXpSIMyFrWG"
      }
    },
    {
      "cell_type": "markdown",
      "source": [
        "16. What are the advantages of OOP\n",
        "- The advantages of Object-Oriented Programming (OOP) include:\n",
        "\n",
        "Modularity: Code is organized into objects and classes, making it easier to manage and understand.\n",
        "Reusability: Classes and objects can be reused across different parts of a program or in other projects.\n",
        "Scalability: OOP makes it easier to expand and modify large systems by adding new objects or extending classes.\n",
        "Maintainability: Encapsulation and modularity help isolate changes to specific parts of the program, making maintenance simpler.\n",
        "Flexibility: Polymorphism and inheritance provide flexibility, allowing for code to be more adaptable and extendable.\n",
        "\n",
        "\n",
        "\n",
        "\n",
        "\n"
      ],
      "metadata": {
        "id": "st2UbhPHF2kR"
      }
    },
    {
      "cell_type": "markdown",
      "source": [
        "17. What is the difference between a class variable and an instance variable\n",
        "- The difference between a class variable and an instance variable:\n",
        "\n",
        "Class variable: Shared by all instances of the class. It is defined inside the class but outside any methods and is accessed using the class name or instance.\n",
        "\n",
        "Instance variable: Unique to each instance of the class. It is defined inside the __init__ method and is accessed via the instance of the class."
      ],
      "metadata": {
        "id": "Bs1E0ZGAGC0Y"
      }
    },
    {
      "cell_type": "markdown",
      "source": [
        "18. What is multiple inheritance in Python\n",
        "- Multiple inheritance in Python occurs when a class inherits from more than one parent class, allowing it to inherit attributes and methods from multiple classes. This enables a class to combine functionality from different sources."
      ],
      "metadata": {
        "id": "u3o78-d0GNeL"
      }
    },
    {
      "cell_type": "markdown",
      "source": [
        "19. Explain the purpose of ‘’__str__’ and ‘__repr__’ ‘ methods in Python\n",
        "- In Python:\n",
        "\n",
        "__str__() is used to define a user-friendly string representation of an object, meant for display to end users.\n",
        "__repr__() is used to define a formal string representation of an object, ideally one that could be used to recreate the object. It is primarily for debugging and development."
      ],
      "metadata": {
        "id": "9y2BG7rHGa7p"
      }
    },
    {
      "cell_type": "markdown",
      "source": [
        "20. What is the significance of the ‘super()’ function in Python\n",
        "-The super() function in Python is used to call methods from a parent class. It allows for invoking the parent class's methods, enabling method overriding, and facilitating multiple inheritance by ensuring proper method resolution order (MRO). It helps avoid explicitly referring to the parent class by name."
      ],
      "metadata": {
        "id": "lzo3dwshGriT"
      }
    },
    {
      "cell_type": "markdown",
      "source": [
        "21. What is the significance of the __del__ method in Python\n",
        "- The __del__ method in Python is a special method called a destructor. It is automatically invoked when an object is about to be destroyed, typically when it is no longer in use and is being garbage collected. It allows for cleanup tasks, like releasing resources or closing files"
      ],
      "metadata": {
        "id": "2ajrcJdPG4Xp"
      }
    },
    {
      "cell_type": "markdown",
      "source": [
        "22. What is the difference between @staticmethod and @classmethod in Python\n",
        "- The difference between @staticmethod and @classmethod in Python:\n",
        "\n",
        "@staticmethod: Defines a method that doesn't take self or cls as its first parameter. It behaves like a regular function but is part of the class. It doesn't have access to class or instance attributes.\n",
        "\n",
        "@classmethod: Defines a method that takes cls as its first parameter, allowing access to class-level attributes and methods. It can modify the class state, but not the instance state."
      ],
      "metadata": {
        "id": "b6lZud1GHFb3"
      }
    },
    {
      "cell_type": "markdown",
      "source": [
        "23. How does polymorphism work in Python with inheritance\n",
        "- polymorphism with inheritance allows subclasses to provide their own implementation of a method defined in a parent class. When the method is called on an object, Python uses the subclass's version of the method, even if the object is treated as an instance of the parent class. This enables different behaviors for objects of different classes, enhancing flexibility and code reusability."
      ],
      "metadata": {
        "id": "O5UvKB80HbMQ"
      }
    },
    {
      "cell_type": "markdown",
      "source": [
        "24. What is method chaining in Python OOP\n",
        "- Method chaining in Python OOP refers to calling multiple methods on the same object in a single line. It is achieved by having methods return the object itself (self), allowing consecutive method calls to be chained together, improving readability and conciseness."
      ],
      "metadata": {
        "id": "1vJS1ycxIPYA"
      }
    },
    {
      "cell_type": "markdown",
      "source": [
        "25. What is the purpose of the __call__ method in Python?\n",
        "- The __call__ method in Python allows an object to be called as if it were a function. By defining this method in a class, instances of the class can be invoked directly, enabling more flexible and dynamic behavior for objects."
      ],
      "metadata": {
        "id": "tWJ-knwWIka4"
      }
    },
    {
      "cell_type": "markdown",
      "source": [
        "Prectical Question"
      ],
      "metadata": {
        "id": "8GvYWdAXI0CH"
      }
    },
    {
      "cell_type": "markdown",
      "source": [
        "1.  Create a parent class Animal with a method speak() that prints a generic message. Create a child class Dog\n",
        "that overrides the speak() method to print \"Bark!\"."
      ],
      "metadata": {
        "id": "I5jpxPkiI4eB"
      }
    },
    {
      "cell_type": "markdown",
      "source": [
        "Here's how you can create the parent class Animal and the child class Dog in Python, with the speak() method overridden:"
      ],
      "metadata": {
        "id": "OTkhXQlTJKH4"
      }
    },
    {
      "cell_type": "code",
      "source": [
        "# Parent class\n",
        "class Animal:\n",
        "    def speak(self):\n",
        "        print(\"Animal makes a sound\")\n",
        "\n",
        "# Child class\n",
        "class Dog(Animal):\n",
        "    def speak(self):\n",
        "        print(\"Bark!\")\n",
        "\n",
        "# Creating an instance of the Dog class\n",
        "dog = Dog()\n",
        "dog.speak()  # Output: Bark!\n"
      ],
      "metadata": {
        "colab": {
          "base_uri": "https://localhost:8080/"
        },
        "id": "FJvSWcieJLVd",
        "outputId": "63ffb8ab-5fe5-4053-8d12-c56dbcd5c42d"
      },
      "execution_count": 1,
      "outputs": [
        {
          "output_type": "stream",
          "name": "stdout",
          "text": [
            "Bark!\n"
          ]
        }
      ]
    },
    {
      "cell_type": "markdown",
      "source": [
        "2. Write a program to create an abstract class Shape with a method area(). Derive classes Circle and Rectangle\n",
        "from it and implement the area() method in both."
      ],
      "metadata": {
        "id": "bW4T_JlMJieB"
      }
    },
    {
      "cell_type": "markdown",
      "source": [
        "Here’s a Python program that creates an abstract class Shape with an abstract method area(), and then derives the Circle and Rectangle classes from it, implementing the area() method in both:"
      ],
      "metadata": {
        "id": "LhRFuDOlJ5Ez"
      }
    },
    {
      "cell_type": "code",
      "source": [
        "from abc import ABC, abstractmethod\n",
        "import math\n",
        "\n",
        "# Abstract class Shape\n",
        "class Shape(ABC):\n",
        "    @abstractmethod\n",
        "    def area(self):\n",
        "        pass\n",
        "\n",
        "# Derived class Circle\n",
        "class Circle(Shape):\n",
        "    def __init__(self, radius):\n",
        "        self.radius = radius\n",
        "\n",
        "    def area(self):\n",
        "        return math.pi * (self.radius ** 2)\n",
        "\n",
        "# Derived class Rectangle\n",
        "class Rectangle(Shape):\n",
        "    def __init__(self, length, width):\n",
        "        self.length = length\n",
        "        self.width = width\n",
        "\n",
        "    def area(self):\n",
        "        return self.length * self.width\n",
        "\n",
        "# Create objects of Circle and Rectangle\n",
        "circle = Circle(5)\n",
        "rectangle = Rectangle(4, 6)\n",
        "\n",
        "# Output the area\n",
        "print(f\"Area of the circle: {circle.area()}\")\n",
        "print(f\"Area of the rectangle: {rectangle.area()}\")\n"
      ],
      "metadata": {
        "colab": {
          "base_uri": "https://localhost:8080/"
        },
        "id": "uXHZlWQiJ6Xp",
        "outputId": "9b264412-8371-4990-c4fc-5965ecf20a7e"
      },
      "execution_count": 2,
      "outputs": [
        {
          "output_type": "stream",
          "name": "stdout",
          "text": [
            "Area of the circle: 78.53981633974483\n",
            "Area of the rectangle: 24\n"
          ]
        }
      ]
    },
    {
      "cell_type": "markdown",
      "source": [
        "3. Implement a multi-level inheritance scenario where a class Vehicle has an attribute type. Derive a class Car\n",
        "and further derive a class ElectricCar that adds a battery attribute."
      ],
      "metadata": {
        "id": "FpzKqsHmKDgQ"
      }
    },
    {
      "cell_type": "code",
      "source": [
        "# Base class Vehicle\n",
        "class Vehicle:\n",
        "    def __init__(self, type):\n",
        "        self.type = type\n",
        "\n",
        "    def display_type(self):\n",
        "        print(f\"Vehicle type: {self.type}\")\n",
        "\n",
        "# Derived class Car\n",
        "class Car(Vehicle):\n",
        "    def __init__(self, type, model):\n",
        "        super().__init__(type)  # Initialize parent class\n",
        "        self.model = model\n",
        "\n",
        "    def display_info(self):\n",
        "        print(f\"Car model: {self.model}\")\n",
        "\n",
        "# Further derived class ElectricCar\n",
        "class ElectricCar(Car):\n",
        "    def __init__(self, type, model, battery):\n",
        "        super().__init__(type, model)  # Initialize parent class\n",
        "        self.battery = battery\n",
        "\n",
        "    def display_battery(self):\n",
        "        print(f\"Electric car battery: {self.battery} kWh\")\n",
        "\n",
        "# Create an instance of ElectricCar\n",
        "electric_car = ElectricCar(\"Electric\", \"Tesla Model S\", 75)\n",
        "\n",
        "# Output the information\n",
        "electric_car.display_type()    # Vehicle type: Electric\n",
        "electric_car.display_info()    # Car model: Tesla Model S\n",
        "electric_car.display_battery() # Electric car battery: 75 kWh\n"
      ],
      "metadata": {
        "colab": {
          "base_uri": "https://localhost:8080/"
        },
        "id": "MvBeISj0KIv_",
        "outputId": "d06482fa-f7d2-413a-fd01-2db2aabdcf10"
      },
      "execution_count": 3,
      "outputs": [
        {
          "output_type": "stream",
          "name": "stdout",
          "text": [
            "Vehicle type: Electric\n",
            "Car model: Tesla Model S\n",
            "Electric car battery: 75 kWh\n"
          ]
        }
      ]
    },
    {
      "cell_type": "markdown",
      "source": [
        "4. . Implement a multi-level inheritance scenario where a class Vehicle has an attribute type. Derive a class Car\n",
        "and further derive a class ElectricCar that adds a battery attribute."
      ],
      "metadata": {
        "id": "wCUr4DwwKpF4"
      }
    },
    {
      "cell_type": "code",
      "source": [
        "# Base class Vehicle\n",
        "class Vehicle:\n",
        "    def __init__(self, type):\n",
        "        self.type = type  # Attribute to store the type of the vehicle\n",
        "\n",
        "    def display_type(self):\n",
        "        print(f\"Vehicle type: {self.type}\")\n",
        "\n",
        "# Derived class Car\n",
        "class Car(Vehicle):\n",
        "    def __init__(self, type, model):\n",
        "        super().__init__(type)  # Initialize the parent class (Vehicle)\n",
        "        self.model = model  # Attribute to store the car's model\n",
        "\n",
        "    def display_info(self):\n",
        "        print(f\"Car model: {self.model}\")\n",
        "\n",
        "# Further derived class ElectricCar\n",
        "class ElectricCar(Car):\n",
        "    def __init__(self, type, model, battery):\n",
        "        super().__init__(type, model)  # Initialize the parent class (Car)\n",
        "        self.battery = battery  # Attribute to store the battery capacity\n",
        "\n",
        "    def display_battery(self):\n",
        "        print(f\"Electric car battery: {self.battery} kWh\")\n",
        "\n",
        "# Create an instance of ElectricCar\n",
        "electric_car = ElectricCar(\"Electric\", \"Tesla Model S\", 75)\n",
        "\n",
        "# Output the information\n",
        "electric_car.display_type()    # Vehicle type: Electric\n",
        "electric_car.display_info()    # Car model: Tesla Model S\n",
        "electric_car.display_battery() # Electric car battery: 75 kWh\n"
      ],
      "metadata": {
        "colab": {
          "base_uri": "https://localhost:8080/"
        },
        "id": "TDCdz-hiKxkc",
        "outputId": "b3268c1d-dd6b-4176-a1c6-59f4b9f592d0"
      },
      "execution_count": 5,
      "outputs": [
        {
          "output_type": "stream",
          "name": "stdout",
          "text": [
            "Vehicle type: Electric\n",
            "Car model: Tesla Model S\n",
            "Electric car battery: 75 kWh\n"
          ]
        }
      ]
    },
    {
      "cell_type": "markdown",
      "source": [
        "5. Write a program to demonstrate encapsulation by creating a class BankAccount with private attributes\n",
        "balance and methods to deposit, withdraw, and check balance."
      ],
      "metadata": {
        "id": "5mtNbqS1K07f"
      }
    },
    {
      "cell_type": "code",
      "source": [
        "class BankAccount:\n",
        "    def __init__(self, owner, balance=0):\n",
        "        self.owner = owner\n",
        "        self.__balance = balance  # Private attribute\n",
        "\n",
        "    # Deposit method to add money to the balance\n",
        "    def deposit(self, amount):\n",
        "        if amount > 0:\n",
        "            self.__balance += amount\n",
        "            print(f\"Deposited: ${amount}\")\n",
        "        else:\n",
        "            print(\"Deposit amount must be positive.\")\n",
        "\n",
        "    # Withdraw method to subtract money from the balance\n",
        "    def withdraw(self, amount):\n",
        "        if 0 < amount <= self.__balance:\n",
        "            self.__balance -= amount\n",
        "            print(f\"Withdrew: ${amount}\")\n",
        "        else:\n",
        "            print(\"Invalid withdrawal amount or insufficient balance.\")\n",
        "\n",
        "    # Method to check the current balance\n",
        "    def check_balance(self):\n",
        "        print(f\"Current balance: ${self.__balance}\")\n",
        "\n",
        "# Create a BankAccount object\n",
        "account = BankAccount(\"John Doe\", 1000)\n",
        "\n",
        "# Demonstrate deposit, withdraw, and check balance\n",
        "account.deposit(500)        # Depositing $500\n",
        "account.withdraw(200)       # Withdrawing $200\n",
        "account.check_balance()     # Checking balance\n",
        "account.withdraw(1500)      # Trying to withdraw more than available balance\n",
        "account.check_balance()     # Checking balance after withdrawal\n"
      ],
      "metadata": {
        "colab": {
          "base_uri": "https://localhost:8080/"
        },
        "id": "mcgYM_QtK5gW",
        "outputId": "e3ecd5cd-f1f7-4cb0-9655-32fcd7123810"
      },
      "execution_count": 6,
      "outputs": [
        {
          "output_type": "stream",
          "name": "stdout",
          "text": [
            "Deposited: $500\n",
            "Withdrew: $200\n",
            "Current balance: $1300\n",
            "Invalid withdrawal amount or insufficient balance.\n",
            "Current balance: $1300\n"
          ]
        }
      ]
    },
    {
      "cell_type": "markdown",
      "source": [
        "6.  Demonstrate runtime polymorphism using a method play() in a base class Instrument. Derive classes Guitar\n",
        "and Piano that implement their own version of play()"
      ],
      "metadata": {
        "id": "LW1ZcxsFLMjd"
      }
    },
    {
      "cell_type": "code",
      "source": [
        "# Base class Instrument\n",
        "class Instrument:\n",
        "    def play(self):\n",
        "        print(\"Playing an instrument\")\n",
        "\n",
        "# Derived class Guitar\n",
        "class Guitar(Instrument):\n",
        "    def play(self):\n",
        "        print(\"Strumming the guitar\")\n",
        "\n",
        "# Derived class Piano\n",
        "class Piano(Instrument):\n",
        "    def play(self):\n",
        "        print(\"Playing the piano keys\")\n",
        "\n",
        "# Create instances of Guitar and Piano\n",
        "guitar = Guitar()\n",
        "piano = Piano()\n",
        "\n",
        "# Demonstrate runtime polymorphism\n",
        "def demonstrate_play(instrument):\n",
        "    instrument.play()\n",
        "\n",
        "# Call the play method for different instruments\n",
        "demonstrate_play(guitar)  # Output: Strumming the guitar\n",
        "demonstrate_play(piano)   # Output: Playing the piano keys\n"
      ],
      "metadata": {
        "colab": {
          "base_uri": "https://localhost:8080/"
        },
        "id": "9I-anWTZLQhW",
        "outputId": "e25817fb-a811-4104-d2e5-ebe375afd68d"
      },
      "execution_count": 7,
      "outputs": [
        {
          "output_type": "stream",
          "name": "stdout",
          "text": [
            "Strumming the guitar\n",
            "Playing the piano keys\n"
          ]
        }
      ]
    },
    {
      "cell_type": "markdown",
      "source": [
        "7. Create a class MathOperations with a class method add_numbers() to add two numbers and a static\n",
        "method subtract_numbers() to subtract two numbers."
      ],
      "metadata": {
        "id": "8MCZUSRfMTs6"
      }
    },
    {
      "cell_type": "code",
      "source": [
        "class MathOperations:\n",
        "    # Class method to add two numbers\n",
        "    @classmethod\n",
        "    def add_numbers(cls, num1, num2):\n",
        "        return num1 + num2\n",
        "\n",
        "    # Static method to subtract two numbers\n",
        "    @staticmethod\n",
        "    def subtract_numbers(num1, num2):\n",
        "        return num1 - num2\n",
        "\n",
        "# Demonstrate usage of class and static methods\n",
        "result_add = MathOperations.add_numbers(10, 5)\n",
        "result_subtract = MathOperations.subtract_numbers(10, 5)\n",
        "\n",
        "# Output the results\n",
        "print(f\"Addition result: {result_add}\")          # Output: 15\n",
        "print(f\"Subtraction result: {result_subtract}\")  # Output: 5\n"
      ],
      "metadata": {
        "colab": {
          "base_uri": "https://localhost:8080/"
        },
        "id": "QW3ju_kGMZ6S",
        "outputId": "b9ab1575-e3a0-4ecc-94be-c031f9384e3e"
      },
      "execution_count": 8,
      "outputs": [
        {
          "output_type": "stream",
          "name": "stdout",
          "text": [
            "Addition result: 15\n",
            "Subtraction result: 5\n"
          ]
        }
      ]
    },
    {
      "cell_type": "markdown",
      "source": [
        "8. . Implement a class Person with a class method to count the total number of persons created."
      ],
      "metadata": {
        "id": "emqS1mDHMuWI"
      }
    },
    {
      "cell_type": "code",
      "source": [
        "class Person:\n",
        "    # Class attribute to count the total number of persons\n",
        "    total_persons = 0\n",
        "\n",
        "    def __init__(self, name, age):\n",
        "        self.name = name\n",
        "        self.age = age\n",
        "        # Increment the total_persons counter each time a Person is created\n",
        "        Person.total_persons += 1\n",
        "\n",
        "    # Class method to get the total number of persons created\n",
        "    @classmethod\n",
        "    def count_persons(cls):\n",
        "        return cls.total_persons\n",
        "\n",
        "# Create instances of Person\n",
        "person1 = Person(\"Alice\", 30)\n",
        "person2 = Person(\"Bob\", 25)\n",
        "person3 = Person(\"Charlie\", 35)\n",
        "\n",
        "# Get the total number of persons created using the class method\n",
        "print(f\"Total persons created: {Person.count_persons()}\")  # Output: 3\n"
      ],
      "metadata": {
        "colab": {
          "base_uri": "https://localhost:8080/"
        },
        "id": "_cyLc75BMz-g",
        "outputId": "de5287a2-c064-4839-9689-1aa15065848c"
      },
      "execution_count": 9,
      "outputs": [
        {
          "output_type": "stream",
          "name": "stdout",
          "text": [
            "Total persons created: 3\n"
          ]
        }
      ]
    },
    {
      "cell_type": "markdown",
      "source": [
        "9. Write a class Fraction with attributes numerator and denominator. Override the str method to display the\n",
        "fraction as \"numerator/denominator"
      ],
      "metadata": {
        "id": "elvMJo5TM6az"
      }
    },
    {
      "cell_type": "code",
      "source": [
        "class Fraction:\n",
        "    def __init__(self, numerator, denominator):\n",
        "        self.numerator = numerator\n",
        "        self.denominator = denominator\n",
        "\n",
        "    # Override the __str__() method to display the fraction as \"numerator/denominator\"\n",
        "    def __str__(self):\n",
        "        return f\"{self.numerator}/{self.denominator}\"\n",
        "\n",
        "# Create instances of Fraction\n",
        "fraction1 = Fraction(3, 4)\n",
        "fraction2 = Fraction(5, 6)\n",
        "\n",
        "# Output the fractions using the overridden __str__ method\n",
        "print(fraction1)  # Output: 3/4\n",
        "print(fraction2)  # Output: 5/6\n"
      ],
      "metadata": {
        "colab": {
          "base_uri": "https://localhost:8080/"
        },
        "id": "oaGURXP8M-z1",
        "outputId": "75715d89-1f9c-498c-fc0d-f1a1943e72e0"
      },
      "execution_count": 10,
      "outputs": [
        {
          "output_type": "stream",
          "name": "stdout",
          "text": [
            "3/4\n",
            "5/6\n"
          ]
        }
      ]
    },
    {
      "cell_type": "markdown",
      "source": [
        "10. . Demonstrate operator overloading by creating a class Vector and overriding the add method to add two\n",
        "vectors."
      ],
      "metadata": {
        "id": "Vt9SdlOJNGxG"
      }
    },
    {
      "cell_type": "code",
      "source": [
        "class Vector:\n",
        "    def __init__(self, x, y):\n",
        "        self.x = x\n",
        "        self.y = y\n",
        "\n",
        "    # Overloading the + operator to add two vectors\n",
        "    def __add__(self, other):\n",
        "        if isinstance(other, Vector):\n",
        "            return Vector(self.x + other.x, self.y + other.y)\n",
        "        else:\n",
        "            raise TypeError(\"Operands must be instances of Vector\")\n",
        "\n",
        "    # To display the vector in a readable format\n",
        "    def __str__(self):\n",
        "        return f\"({self.x}, {self.y})\"\n",
        "\n",
        "# Create instances of Vector\n",
        "vector1 = Vector(2, 3)\n",
        "vector2 = Vector(4, 5)\n",
        "\n",
        "# Adding two vectors using overloaded + operator\n",
        "result = vector1 + vector2\n",
        "\n",
        "# Output the result\n",
        "print(f\"Sum of {vector1} and {vector2} is {result}\")\n"
      ],
      "metadata": {
        "colab": {
          "base_uri": "https://localhost:8080/"
        },
        "id": "f17y0EhoNLWG",
        "outputId": "52a8ab3c-8899-4f5a-b1fc-65fb5e52973f"
      },
      "execution_count": 11,
      "outputs": [
        {
          "output_type": "stream",
          "name": "stdout",
          "text": [
            "Sum of (2, 3) and (4, 5) is (6, 8)\n"
          ]
        }
      ]
    },
    {
      "cell_type": "markdown",
      "source": [
        "11. Create a class Person with attributes name and age. Add a method greet() that prints \"Hello, my name is\n",
        "{name} and I am {age} years old."
      ],
      "metadata": {
        "id": "01qXqRs7NRl5"
      }
    },
    {
      "cell_type": "code",
      "source": [
        "class Vector:\n",
        "    def __init__(self, x, y):\n",
        "        self.x = x\n",
        "        self.y = y\n",
        "\n",
        "    # Overloading the + operator to add two vectors\n",
        "    def __add__(self, other):\n",
        "        if isinstance(other, Vector):\n",
        "            return Vector(self.x + other.x, self.y + other.y)\n",
        "        else:\n",
        "            raise TypeError(\"Operands must be instances of Vector\")\n",
        "\n",
        "    # To display the vector in a readable format\n",
        "    def __str__(self):\n",
        "        return f\"({self.x}, {self.y})\"\n",
        "\n",
        "# Create instances of Vector\n",
        "vector1 = Vector(2, 3)\n",
        "vector2 = Vector(4, 5)\n",
        "\n",
        "# Adding two vectors using overloaded + operator\n",
        "result = vector1 + vector2\n",
        "\n",
        "# Output the result\n",
        "print(f\"Sum of {vector1} and {vector2} is {result}\")\n"
      ],
      "metadata": {
        "colab": {
          "base_uri": "https://localhost:8080/"
        },
        "id": "OySLcg6PNU0Z",
        "outputId": "e82d15f6-97c3-44c7-ed50-8994e6b2d99d"
      },
      "execution_count": 12,
      "outputs": [
        {
          "output_type": "stream",
          "name": "stdout",
          "text": [
            "Sum of (2, 3) and (4, 5) is (6, 8)\n"
          ]
        }
      ]
    },
    {
      "cell_type": "markdown",
      "source": [
        "12. Implement a class Student with attributes name and grades. Create a method average_grade() to compute\n",
        "the average of the grades."
      ],
      "metadata": {
        "id": "fxoQLsJKNbYk"
      }
    },
    {
      "cell_type": "code",
      "source": [
        "class Student:\n",
        "    def __init__(self, name, grades):\n",
        "        self.name = name  # Attribute to store the student's name\n",
        "        self.grades = grades  # Attribute to store the list of grades\n",
        "\n",
        "    # Method to compute the average of the grades\n",
        "    def average_grade(self):\n",
        "        return sum(self.grades) / len(self.grades) if self.grades else 0\n",
        "\n",
        "# Create an instance of the Student class\n",
        "student1 = Student(\"John\", [85, 90, 78, 92, 88])\n",
        "\n",
        "# Call the average_grade method and print the result\n",
        "print(f\"{student1.name}'s average grade: {student1.average_grade()}\")\n"
      ],
      "metadata": {
        "colab": {
          "base_uri": "https://localhost:8080/"
        },
        "id": "MkkNJwBrNeCc",
        "outputId": "26855bc4-748d-40d2-d81c-be6f8d722f83"
      },
      "execution_count": 13,
      "outputs": [
        {
          "output_type": "stream",
          "name": "stdout",
          "text": [
            "John's average grade: 86.6\n"
          ]
        }
      ]
    },
    {
      "cell_type": "markdown",
      "source": [
        "13. Create a class Rectangle with methods set_dimensions() to set the dimensions and area() to calculate the\n",
        "area.\n",
        "\n",
        "\n"
      ],
      "metadata": {
        "id": "wLSCkWayNlaT"
      }
    },
    {
      "cell_type": "code",
      "source": [
        "class Rectangle:\n",
        "    def __init__(self):\n",
        "        self.length = 0  # Initial length of the rectangle\n",
        "        self.width = 0   # Initial width of the rectangle\n",
        "\n",
        "    # Method to set the dimensions of the rectangle\n",
        "    def set_dimensions(self, length, width):\n",
        "        self.length = length\n",
        "        self.width = width\n",
        "\n",
        "    # Method to calculate the area of the rectangle\n",
        "    def area(self):\n",
        "        return self.length * self.width\n",
        "\n",
        "# Create an instance of the Rectangle class\n",
        "rectangle = Rectangle()\n",
        "\n",
        "# Set the dimensions of the rectangle\n",
        "rectangle.set_dimensions(5, 3)\n",
        "\n",
        "# Calculate and print the area of the rectangle\n",
        "print(f\"Area of the rectangle: {rectangle.area()} square units\")\n"
      ],
      "metadata": {
        "colab": {
          "base_uri": "https://localhost:8080/"
        },
        "id": "pdfoX2uWNqNQ",
        "outputId": "0aeea9d6-087f-44a9-d9a2-083753ef91cf"
      },
      "execution_count": 14,
      "outputs": [
        {
          "output_type": "stream",
          "name": "stdout",
          "text": [
            "Area of the rectangle: 15 square units\n"
          ]
        }
      ]
    },
    {
      "cell_type": "markdown",
      "source": [
        "14. Create a class Employee with a method calculate_salary() that computes the salary based on hours worked\n",
        "and hourly rate. Create a derived class Manager that adds a bonus to the salary."
      ],
      "metadata": {
        "id": "lZ8G8wlDNwok"
      }
    },
    {
      "cell_type": "code",
      "source": [
        "# Base class Employee\n",
        "class Employee:\n",
        "    def __init__(self, name, hours_worked, hourly_rate):\n",
        "        self.name = name  # Employee's name\n",
        "        self.hours_worked = hours_worked  # Number of hours worked\n",
        "        self.hourly_rate = hourly_rate  # Hourly rate of the employee\n",
        "\n",
        "    # Method to calculate salary based on hours worked and hourly rate\n",
        "    def calculate_salary(self):\n",
        "        return self.hours_worked * self.hourly_rate\n",
        "\n",
        "# Derived class Manager\n",
        "class Manager(Employee):\n",
        "    def __init__(self, name, hours_worked, hourly_rate, bonus):\n",
        "        super().__init__(name, hours_worked, hourly_rate)  # Initialize the Employee class\n",
        "        self.bonus = bonus  # Bonus for the manager\n",
        "\n",
        "    # Overriding the calculate_salary method to include the bonus\n",
        "    def calculate_salary(self):\n",
        "        salary = super().calculate_salary()  # Calculate base salary\n",
        "        return salary + self.bonus  # Add bonus to the base salary\n",
        "\n",
        "# Create an instance of Employee\n",
        "employee = Employee(\"Alice\", 40, 25)  # 40 hours worked, $25 per hour\n",
        "\n",
        "# Create an instance of Manager\n",
        "manager = Manager(\"Bob\", 40, 30, 500)  # 40 hours worked, $30 per hour, $500 bonus\n",
        "\n",
        "# Output the salaries\n",
        "print(f\"{employee.name}'s salary: ${employee.calculate_salary()}\")  # Output: 1000\n",
        "print(f\"{manager.name}'s salary (with bonus): ${manager.calculate_salary()}\")  # Output: 1700\n"
      ],
      "metadata": {
        "colab": {
          "base_uri": "https://localhost:8080/"
        },
        "id": "7tcbBemAN0ZZ",
        "outputId": "d0e16205-c9eb-4b72-a64c-79dead5428c7"
      },
      "execution_count": 15,
      "outputs": [
        {
          "output_type": "stream",
          "name": "stdout",
          "text": [
            "Alice's salary: $1000\n",
            "Bob's salary (with bonus): $1700\n"
          ]
        }
      ]
    },
    {
      "cell_type": "markdown",
      "source": [
        "15. Create a class Product with attributes name, price, and quantity. Implement a method total_price() that\n",
        "calculates the total price of the product."
      ],
      "metadata": {
        "id": "FcsG3BzAOB6r"
      }
    },
    {
      "cell_type": "code",
      "source": [
        "class Product:\n",
        "    def __init__(self, name, price, quantity):\n",
        "        self.name = name      # Name of the product\n",
        "        self.price = price    # Price of the product\n",
        "        self.quantity = quantity  # Quantity of the product\n",
        "\n",
        "    # Method to calculate the total price of the product\n",
        "    def total_price(self):\n",
        "        return self.price * self.quantity\n",
        "\n",
        "# Create an instance of the Product class\n",
        "product = Product(\"Laptop\", 1200, 3)\n",
        "\n",
        "# Calculate and print the total price of the product\n",
        "print(f\"Total price of {product.name} is: ${product.total_price()}\")\n"
      ],
      "metadata": {
        "colab": {
          "base_uri": "https://localhost:8080/"
        },
        "id": "k-Ql2Fs9OHmF",
        "outputId": "4c10af7c-db0d-4114-9639-bfb9bd78a01a"
      },
      "execution_count": 16,
      "outputs": [
        {
          "output_type": "stream",
          "name": "stdout",
          "text": [
            "Total price of Laptop is: $3600\n"
          ]
        }
      ]
    },
    {
      "cell_type": "markdown",
      "source": [
        "16. Create a class Animal with an abstract method sound(). Create two derived classes Cow and Sheep that\n",
        "implement the sound() method."
      ],
      "metadata": {
        "id": "RbVpN8hqOP3_"
      }
    },
    {
      "cell_type": "code",
      "source": [
        "from abc import ABC, abstractmethod\n",
        "\n",
        "# Base class Animal with an abstract method sound()\n",
        "class Animal(ABC):\n",
        "    @abstractmethod\n",
        "    def sound(self):\n",
        "        pass  # Abstract method, to be implemented by derived classes\n",
        "\n",
        "# Derived class Cow\n",
        "class Cow(Animal):\n",
        "    def sound(self):\n",
        "        print(\"Moo\")\n",
        "\n",
        "# Derived class Sheep\n",
        "class Sheep(Animal):\n",
        "    def sound(self):\n",
        "        print(\"Baa\")\n",
        "\n",
        "# Create instances of Cow and Sheep\n",
        "cow = Cow()\n",
        "sheep = Sheep()\n",
        "\n",
        "# Call the sound method for each animal\n",
        "cow.sound()  # Output: Moo\n",
        "sheep.sound()  # Output: Baa\n"
      ],
      "metadata": {
        "colab": {
          "base_uri": "https://localhost:8080/"
        },
        "id": "hjldXW6aOU8T",
        "outputId": "03dc07a3-9cc3-44e0-90cc-98a928dc86b6"
      },
      "execution_count": 17,
      "outputs": [
        {
          "output_type": "stream",
          "name": "stdout",
          "text": [
            "Moo\n",
            "Baa\n"
          ]
        }
      ]
    },
    {
      "cell_type": "markdown",
      "source": [
        "17. Create a class Book with attributes title, author, and year_published. Add a method get_book_info() that\n",
        "returns a formatted string with the book's details.\n",
        "\n",
        "\n"
      ],
      "metadata": {
        "id": "jk_bZhL1Obxc"
      }
    },
    {
      "cell_type": "code",
      "source": [
        "class Book:\n",
        "    def __init__(self, title, author, year_published):\n",
        "        self.title = title            # Attribute to store the title of the book\n",
        "        self.author = author          # Attribute to store the author of the book\n",
        "        self.year_published = year_published  # Attribute to store the publication year\n",
        "\n",
        "    # Method to return the book's details as a formatted string\n",
        "    def get_book_info(self):\n",
        "        return f\"Title: {self.title}\\nAuthor: {self.author}\\nYear Published: {self.year_published}\"\n",
        "\n",
        "# Create an instance of the Book class\n",
        "book1 = Book(\"To Kill a Mockingbird\", \"Harper Lee\", 1960)\n",
        "\n",
        "# Get and print the book's details\n",
        "print(book1.get_book_info())\n"
      ],
      "metadata": {
        "colab": {
          "base_uri": "https://localhost:8080/"
        },
        "id": "Aa5ZnL_0OieT",
        "outputId": "35e10527-bf73-4852-a1b3-0024cc9d4c02"
      },
      "execution_count": 18,
      "outputs": [
        {
          "output_type": "stream",
          "name": "stdout",
          "text": [
            "Title: To Kill a Mockingbird\n",
            "Author: Harper Lee\n",
            "Year Published: 1960\n"
          ]
        }
      ]
    },
    {
      "cell_type": "markdown",
      "source": [
        "18. Create a class House with attributes address and price. Create a derived class Mansion that adds an\n",
        "attribute number_of_rooms."
      ],
      "metadata": {
        "id": "oq1KkffgOqP5"
      }
    },
    {
      "cell_type": "code",
      "source": [
        "# Base class House\n",
        "class House:\n",
        "    def __init__(self, address, price):\n",
        "        self.address = address  # Address of the house\n",
        "        self.price = price      # Price of the house\n",
        "\n",
        "    def get_house_info(self):\n",
        "        return f\"Address: {self.address}\\nPrice: ${self.price}\"\n",
        "\n",
        "# Derived class Mansion\n",
        "class Mansion(House):\n",
        "    def __init__(self, address, price, number_of_rooms):\n",
        "        super().__init__(address, price)  # Initialize the base class attributes\n",
        "        self.number_of_rooms = number_of_rooms  # Additional attribute for Mansion\n",
        "\n",
        "    def get_mansion_info(self):\n",
        "        house_info = super().get_house_info()  # Get info from the base class\n",
        "        return f\"{house_info}\\nNumber of Rooms: {self.number_of_rooms}\"\n",
        "\n",
        "# Create an instance of Mansion\n",
        "mansion = Mansion(\"123 Luxury St, Beverly Hills\", 1000000, 10)\n",
        "\n",
        "# Print the mansion's details\n",
        "print(mansion.get_mansion_info())\n"
      ],
      "metadata": {
        "colab": {
          "base_uri": "https://localhost:8080/"
        },
        "id": "nd2yQdTFOv4M",
        "outputId": "ec87aa97-4eb5-4dbc-8a46-7f53a78da3e2"
      },
      "execution_count": 19,
      "outputs": [
        {
          "output_type": "stream",
          "name": "stdout",
          "text": [
            "Address: 123 Luxury St, Beverly Hills\n",
            "Price: $1000000\n",
            "Number of Rooms: 10\n"
          ]
        }
      ]
    }
  ]
}